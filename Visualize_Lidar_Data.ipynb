{
 "cells": [
  {
   "cell_type": "code",
   "execution_count": 1,
   "id": "5db4fe21",
   "metadata": {},
   "outputs": [],
   "source": [
    "import laspy\n",
    "import open3d as o3d\n",
    "import numpy as np"
   ]
  },
  {
   "cell_type": "code",
   "execution_count": 2,
   "id": "9df2d4a3",
   "metadata": {},
   "outputs": [
    {
     "data": {
      "text/plain": [
       "<LasData(1.2, point fmt: <PointFormat(1, 0 bytes of extra dims)>, 46150 points, 4 vlrs)>"
      ]
     },
     "execution_count": 2,
     "metadata": {},
     "output_type": "execute_result"
    }
   ],
   "source": [
    "las = laspy.read(\"data/lidar.las\")\n",
    "las"
   ]
  },
  {
   "cell_type": "code",
   "execution_count": 3,
   "id": "c8fc93f2",
   "metadata": {},
   "outputs": [
    {
     "data": {
      "text/plain": [
       "['X',\n",
       " 'Y',\n",
       " 'Z',\n",
       " 'intensity',\n",
       " 'return_number',\n",
       " 'number_of_returns',\n",
       " 'scan_direction_flag',\n",
       " 'edge_of_flight_line',\n",
       " 'classification',\n",
       " 'synthetic',\n",
       " 'key_point',\n",
       " 'withheld',\n",
       " 'scan_angle_rank',\n",
       " 'user_data',\n",
       " 'point_source_id',\n",
       " 'gps_time']"
      ]
     },
     "execution_count": 3,
     "metadata": {},
     "output_type": "execute_result"
    }
   ],
   "source": [
    "list(las.point_format.dimension_names)\n"
   ]
  },
  {
   "cell_type": "code",
   "execution_count": 4,
   "id": "f93bda7e",
   "metadata": {},
   "outputs": [
    {
     "data": {
      "text/plain": [
       "array([65948887, 65948947, 65949008, ..., 65953275, 65953341, 65953329],\n",
       "      dtype=int32)"
      ]
     },
     "execution_count": 4,
     "metadata": {},
     "output_type": "execute_result"
    }
   ],
   "source": [
    "las.X"
   ]
  },
  {
   "cell_type": "code",
   "execution_count": 5,
   "id": "7aa5a55c",
   "metadata": {},
   "outputs": [
    {
     "data": {
      "text/plain": [
       "array([14,  9, 28, ..., 19, 36, 25], dtype=uint16)"
      ]
     },
     "execution_count": 5,
     "metadata": {},
     "output_type": "execute_result"
    }
   ],
   "source": [
    "las.intensity"
   ]
  },
  {
   "cell_type": "code",
   "execution_count": 6,
   "id": "73836350",
   "metadata": {},
   "outputs": [
    {
     "data": {
      "text/plain": [
       "array([ 82850.15856803,  82850.15857803,  82850.15858803, ...,\n",
       "       146773.41777289, 146773.41778288, 146773.41910291])"
      ]
     },
     "execution_count": 6,
     "metadata": {},
     "output_type": "execute_result"
    }
   ],
   "source": [
    "las.gps_time"
   ]
  },
  {
   "cell_type": "code",
   "execution_count": 7,
   "id": "4b3669a4",
   "metadata": {},
   "outputs": [
    {
     "data": {
      "text/plain": [
       "{1, 2}"
      ]
     },
     "execution_count": 7,
     "metadata": {},
     "output_type": "execute_result"
    }
   ],
   "source": [
    "set(list(las.classification))"
   ]
  },
  {
   "cell_type": "markdown",
   "id": "f8c760eb",
   "metadata": {},
   "source": [
    "# Creating, Filtering, and Writing Point Cloud Data\n"
   ]
  },
  {
   "cell_type": "code",
   "execution_count": 8,
   "id": "8917d026",
   "metadata": {},
   "outputs": [
    {
     "data": {
      "text/plain": [
       "array([[ 65948887, 437130910,     56975],\n",
       "       [ 65948947, 437130938,     56985],\n",
       "       [ 65949008, 437130966,     56995],\n",
       "       ...,\n",
       "       [ 65953275, 437125842,     61213],\n",
       "       [ 65953341, 437125868,     61153],\n",
       "       [ 65953329, 437125854,     61172]], dtype=int32)"
      ]
     },
     "execution_count": 8,
     "metadata": {},
     "output_type": "execute_result"
    }
   ],
   "source": [
    "point_data = np.stack([las.X, las.Y, las.Z], axis=0).transpose((1, 0))\n",
    "point_data"
   ]
  },
  {
   "cell_type": "code",
   "execution_count": 9,
   "id": "877233b1",
   "metadata": {},
   "outputs": [],
   "source": [
    "ground = laspy.create(point_format=las.header.point_format, file_version=las.header.version)\n",
    "ground.points = las.points[las.classification == 2]"
   ]
  },
  {
   "cell_type": "code",
   "execution_count": 10,
   "id": "72693cfd",
   "metadata": {},
   "outputs": [],
   "source": [
    "ground.write(\"data/ground.las\")"
   ]
  },
  {
   "cell_type": "code",
   "execution_count": 11,
   "id": "3c3bb7dc",
   "metadata": {},
   "outputs": [
    {
     "data": {
      "text/plain": [
       "array([[ 65948887, 437130910,     56975],\n",
       "       [ 65948947, 437130938,     56985],\n",
       "       [ 65949008, 437130966,     56995],\n",
       "       ...,\n",
       "       [ 65953328, 437126017,     61060],\n",
       "       [ 65953308, 437125997,     61060],\n",
       "       [ 65953341, 437125868,     61153]], dtype=int32)"
      ]
     },
     "execution_count": 11,
     "metadata": {},
     "output_type": "execute_result"
    }
   ],
   "source": [
    "ground_point_data = np.stack([ground.X, ground.Y, ground.Z], axis=0).transpose((1, 0))\n",
    "ground_point_data"
   ]
  },
  {
   "cell_type": "markdown",
   "id": "ae269505",
   "metadata": {},
   "source": [
    "# 3D Point Cloud Visualization\n"
   ]
  },
  {
   "cell_type": "code",
   "execution_count": null,
   "id": "e6225135",
   "metadata": {},
   "outputs": [],
   "source": [
    "geom = o3d.geometry.PointCloud()\n",
    "geom.points = o3d.utility.Vector3dVector(point_data)\n",
    "o3d.visualization.draw_geometries([geom])"
   ]
  },
  {
   "cell_type": "code",
   "execution_count": null,
   "id": "bc92f623",
   "metadata": {},
   "outputs": [],
   "source": []
  }
 ],
 "metadata": {
  "kernelspec": {
   "display_name": "Python 3 (ipykernel)",
   "language": "python",
   "name": "python3"
  },
  "language_info": {
   "codemirror_mode": {
    "name": "ipython",
    "version": 3
   },
   "file_extension": ".py",
   "mimetype": "text/x-python",
   "name": "python",
   "nbconvert_exporter": "python",
   "pygments_lexer": "ipython3",
   "version": "3.8.13"
  }
 },
 "nbformat": 4,
 "nbformat_minor": 5
}
